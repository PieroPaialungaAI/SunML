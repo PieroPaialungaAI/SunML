{
 "cells": [
  {
   "cell_type": "markdown",
   "metadata": {},
   "source": [
    "# Scraping AR/SF"
   ]
  },
  {
   "cell_type": "code",
   "execution_count": 1,
   "metadata": {},
   "outputs": [],
   "source": [
    "import pandas as pd\n",
    "import selenium\n",
    "from selenium import webdriver\n",
    "from selenium.webdriver import ActionChains\n",
    "from selenium.webdriver.common.keys import Keys\n",
    "import pyautogui\n",
    "import time"
   ]
  },
  {
   "cell_type": "code",
   "execution_count": 2,
   "metadata": {},
   "outputs": [],
   "source": [
    "convert=pd.read_csv('work.csv')"
   ]
  },
  {
   "cell_type": "code",
   "execution_count": 3,
   "metadata": {},
   "outputs": [],
   "source": [
    "data=pd.DataFrame()\n",
    "data['Event']=convert[convert.columns.tolist()[0]]\n",
    "data['Image']=convert[convert.columns.tolist()[11]]\n",
    "data['Type']=convert[convert.columns.tolist()[18]]\n",
    "data=data.dropna()"
   ]
  },
  {
   "cell_type": "code",
   "execution_count": 4,
   "metadata": {},
   "outputs": [],
   "source": [
    "data.to_csv('arsolarflaresdata.csv')"
   ]
  },
  {
   "cell_type": "code",
   "execution_count": 5,
   "metadata": {},
   "outputs": [
    {
     "data": {
      "text/plain": [
       "'AR'"
      ]
     },
     "execution_count": 5,
     "metadata": {},
     "output_type": "execute_result"
    }
   ],
   "source": [
    "data.Type.tolist()[0]"
   ]
  },
  {
   "cell_type": "code",
   "execution_count": 12,
   "metadata": {},
   "outputs": [
    {
     "data": {
      "text/plain": [
       "['http://www.lmsal.com/hek/gallery/podimages/2019/01/05/pod_nitta_nariaki_2019-01-05T23%3A08%3A36.244/thumb/halocme_AIA-171_HMI-6173_20181230T161801_made_20190105T230318.jpg',\n",
       " 'http://www.lmsal.com/hek/gallery/podimages/2019/01/05/pod_nitta_nariaki_2019-01-05T23%3A08%3A54.619/thumb/halocme_AIA-171_HMI-6173_20181230T161801_made_20190105T230318.jpg',\n",
       " 'http://www.lmsal.com/hek/gallery/podimages/2019/01/05/pod_nitta_nariaki_2019-01-05T23%3A08%3A36.244/thumb/halocme_AIA-171_HMI-6173_20181230T161801_made_20190105T230318.jpg',\n",
       " 'http://sdowww.lmsal.com/sdomedia/ssw/media/ssw/ssw_client/data/ssw_service_190111_231813_16099/www/ssw_cutout_171_context_thumb.gif',\n",
       " 'http://sdowww.lmsal.com/sdomedia/ssw/media/ssw/ssw_client/data/ssw_service_190111_232006_16133/www/ssw_cutout_171_context_thumb.gif',\n",
       " 'http://sdowww.lmsal.com/sdomedia/ssw/media/ssw/ssw_client/data/ssw_service_190111_231813_16095/www/ssw_cutout_171_context_thumb.gif',\n",
       " 'http://sdowww.lmsal.com/sdomedia/ssw/media/ssw/ssw_client/data/ssw_service_190111_232006_16137/www/ssw_cutout_171_context_thumb.gif',\n",
       " 'http://sdowww.lmsal.com/sdomedia/ssw/media/ssw/ssw_client/data/ssw_service_190111_231428_15797/www/ssw_cutout_171_context_thumb.gif',\n",
       " 'http://sdowww.lmsal.com/sdomedia/ssw/media/ssw/ssw_client/data/ssw_service_190111_231813_16091/www/ssw_cutout_171_context_thumb.gif',\n",
       " 'http://sdowww.lmsal.com/sdomedia/ssw/media/ssw/ssw_client/data/ssw_service_190111_231428_15801/www/ssw_cutout_171_context_thumb.gif',\n",
       " 'http://sdowww.lmsal.com/sdomedia/ssw/media/ssw/ssw_client/data/ssw_service_190111_231235_15699/www/ssw_cutout_171_context_thumb.gif',\n",
       " 'http://sdowww.lmsal.com/sdomedia/ssw/media/ssw/ssw_client/data/ssw_service_190111_231036_15637/www/ssw_cutout_171_context_thumb.gif',\n",
       " 'http://sdowww.lmsal.com/sdomedia/ssw/media/ssw/ssw_client/data/ssw_service_190111_231235_15703/www/ssw_cutout_171_context_thumb.gif',\n",
       " 'http://sdowww.lmsal.com/sdomedia/ssw/media/ssw/ssw_client/data/ssw_service_190111_230650_15536/www/ssw_cutout_171_context_thumb.gif',\n",
       " 'http://sdowww.lmsal.com/sdomedia/ssw/media/ssw/ssw_client/data/ssw_service_190111_231036_15633/www/ssw_cutout_171_context_thumb.gif',\n",
       " 'http://sdowww.lmsal.com/sdomedia/ssw/media/ssw/ssw_client/data/ssw_service_190111_230842_15553/www/ssw_cutout_171_context_thumb.gif',\n",
       " 'http://sdowww.lmsal.com/sdomedia/ssw/media/ssw/ssw_client/data/ssw_service_190111_230650_15532/www/ssw_cutout_171_context_thumb.gif',\n",
       " 'http://sdowww.lmsal.com/sdomedia/ssw/media/ssw/ssw_client/data/ssw_service_190111_205038_9052/www/ssw_cutout_171_context_thumb.gif',\n",
       " 'http://sdowww.lmsal.com/sdomedia/ssw/media/ssw/ssw_client/data/ssw_service_190111_205037_9048/www/ssw_cutout_171_context_thumb.gif',\n",
       " 'http://sdowww.lmsal.com/sdomedia/ssw/media/ssw/ssw_client/data/ssw_service_190111_230456_15426/www/ssw_cutout_171_context_thumb.gif',\n",
       " 'http://sdowww.lmsal.com/sdomedia/ssw/media/ssw/ssw_client/data/ssw_service_190111_230303_15356/www/ssw_cutout_171_context_thumb.gif',\n",
       " 'http://sdowww.lmsal.com/sdomedia/ssw/media/ssw/ssw_client/data/ssw_service_190111_205234_9119/www/ssw_cutout_171_context_thumb.gif',\n",
       " 'http://sdowww.lmsal.com/sdomedia/ssw/media/ssw/ssw_client/data/ssw_service_190111_205234_9123/www/ssw_cutout_171_context_thumb.gif',\n",
       " 'http://sdowww.lmsal.com/sdomedia/ssw/media/ssw/ssw_client/data/ssw_service_190111_205234_9127/www/ssw_cutout_171_context_thumb.gif',\n",
       " 'http://sdowww.lmsal.com/sdomedia/ssw/media/ssw/ssw_client/data/ssw_service_190111_230303_15352/www/ssw_cutout_171_context_thumb.gif',\n",
       " 'http://sdowww.lmsal.com/sdomedia/ssw/media/ssw/ssw_client/data/ssw_service_190111_230110_15313/www/ssw_cutout_171_context_thumb.gif',\n",
       " 'http://sdowww.lmsal.com/sdomedia/ssw/media/ssw/ssw_client/data/ssw_service_190111_230303_15348/www/ssw_cutout_171_context_thumb.gif',\n",
       " 'http://sdowww.lmsal.com/sdomedia/ssw/media/ssw/ssw_client/data/ssw_service_190101_215050_27882/www/ssw_cutout_193_context_thumb.gif',\n",
       " 'http://sdowww.lmsal.com/sdomedia/ssw/media/ssw/ssw_client/data/ssw_service_190207_094834_12214/www/ssw_cutout_131_context_thumb.gif',\n",
       " 'http://sdowww.lmsal.com/sdomedia/ssw/media/ssw/ssw_client/data/ssw_service_190210_022125_19324/www/ssw_cutout_171_context_thumb.gif',\n",
       " 'http://sdowww.lmsal.com/sdomedia/ssw/media/ssw/ssw_client/data/ssw_service_190206_122628_19848/www/ssw_cutout_211_context_thumb.gif',\n",
       " 'http://sdowww.lmsal.com/sdomedia/ssw/media/ssw/ssw_client/data/ssw_service_190102_074130_21611/www/ssw_cutout_193_context_thumb.gif',\n",
       " 'http://sdowww.lmsal.com/sdomedia/ssw/media/ssw/ssw_client/data/ssw_service_190111_205430_9203/www/ssw_cutout_171_context_thumb.gif',\n",
       " 'http://sdowww.lmsal.com/sdomedia/ssw/media/ssw/ssw_client/data/ssw_service_190111_205431_9207/www/ssw_cutout_171_context_thumb.gif',\n",
       " 'http://sdowww.lmsal.com/sdomedia/ssw/media/ssw/ssw_client/data/ssw_service_190102_074052_21579/www/ssw_cutout_193_context_thumb.gif',\n",
       " 'http://sdowww.lmsal.com/sdomedia/ssw/media/ssw/ssw_client/data/ssw_service_190111_205623_9333/www/ssw_cutout_171_context_thumb.gif',\n",
       " 'http://sdowww.lmsal.com/sdomedia/ssw/media/ssw/ssw_client/data/ssw_service_190111_205623_9337/www/ssw_cutout_171_context_thumb.gif',\n",
       " 'http://sdowww.lmsal.com/sdomedia/ssw/media/ssw/ssw_client/data/ssw_service_190102_074546_22022/www/ssw_cutout_193_context_thumb.gif',\n",
       " 'http://sdowww.lmsal.com/sdomedia/ssw/media/ssw/ssw_client/data/ssw_service_190102_121638_3551/www/ssw_cutout_193_context_thumb.gif',\n",
       " 'http://sdowww.lmsal.com/sdomedia/ssw/media/ssw/ssw_client/data/ssw_service_190111_225813_15055/www/ssw_cutout_171_context_thumb.gif',\n",
       " 'http://sdowww.lmsal.com/sdomedia/ssw/media/ssw/ssw_client/data/ssw_service_190111_225813_15051/www/ssw_cutout_171_context_thumb.gif',\n",
       " 'http://sdowww.lmsal.com/sdomedia/ssw/media/ssw/ssw_client/data/ssw_service_190102_121554_3493/www/ssw_cutout_193_context_thumb.gif',\n",
       " 'http://sdowww.lmsal.com/sdomedia/ssw/media/ssw/ssw_client/data/ssw_service_190102_122549_3850/www/ssw_cutout_193_context_thumb.gif',\n",
       " 'http://sdowww.lmsal.com/sdomedia/ssw/media/ssw/ssw_client/data/ssw_service_190102_125053_4909/www/ssw_cutout_193_context_thumb.gif',\n",
       " 'http://sdowww.lmsal.com/sdomedia/ssw/media/ssw/ssw_client/data/ssw_service_190111_225619_15011/www/ssw_cutout_171_context_thumb.gif',\n",
       " 'http://sdowww.lmsal.com/sdomedia/ssw/media/ssw/ssw_client/data/ssw_service_190112_061744_5171/www/ssw_cutout_171_context_thumb.gif',\n",
       " 'http://sdowww.lmsal.com/sdomedia/ssw/media/ssw/ssw_client/data/ssw_service_190112_061744_5175/www/ssw_cutout_171_context_thumb.gif',\n",
       " 'http://sdowww.lmsal.com/sdomedia/ssw/media/ssw/ssw_client/data/ssw_service_190111_225425_14881/www/ssw_cutout_171_context_thumb.gif',\n",
       " 'http://sdowww.lmsal.com/sdomedia/ssw/media/ssw/ssw_client/data/ssw_service_190111_225619_15007/www/ssw_cutout_171_context_thumb.gif',\n",
       " 'http://sdowww.lmsal.com/sdomedia/ssw/media/ssw/ssw_client/data/ssw_service_190111_225229_14810/www/ssw_cutout_171_context_thumb.gif',\n",
       " 'http://sdowww.lmsal.com/sdomedia/ssw/media/ssw/ssw_client/data/ssw_service_190102_214626_27619/www/ssw_cutout_193_context_thumb.gif',\n",
       " 'http://sdowww.lmsal.com/sdomedia/ssw/media/ssw/ssw_client/data/ssw_service_190102_214549_27589/www/ssw_cutout_193_context_thumb.gif',\n",
       " 'http://sdowww.lmsal.com/sdomedia/ssw/media/ssw/ssw_client/data/ssw_service_190111_225034_14744/www/ssw_cutout_171_context_thumb.gif',\n",
       " 'http://sdowww.lmsal.com/sdomedia/ssw/media/ssw/ssw_client/data/ssw_service_190111_225228_14806/www/ssw_cutout_171_context_thumb.gif',\n",
       " 'http://sdowww.lmsal.com/sdomedia/ssw/media/ssw/ssw_client/data/ssw_service_190212_160820_18747/www/ssw_cutout_131_context_thumb.gif',\n",
       " 'http://sdowww.lmsal.com/sdomedia/ssw/media/ssw/ssw_client/data/ssw_service_190112_061744_5159/www/ssw_cutout_171_context_thumb.gif',\n",
       " 'http://sdowww.lmsal.com/sdomedia/ssw/media/ssw/ssw_client/data/ssw_service_190112_061744_5167/www/ssw_cutout_171_context_thumb.gif',\n",
       " 'http://sdowww.lmsal.com/sdomedia/ssw/media/ssw/ssw_client/data/ssw_service_190112_061744_5163/www/ssw_cutout_171_context_thumb.gif',\n",
       " 'http://sdowww.lmsal.com/sdomedia/ssw/media/ssw/ssw_client/data/ssw_service_190103_063542_19202/www/ssw_cutout_193_context_thumb.gif',\n",
       " 'http://sdowww.lmsal.com/sdomedia/ssw/media/ssw/ssw_client/data/ssw_service_190111_224449_14403/www/ssw_cutout_171_context_thumb.gif',\n",
       " 'http://sdowww.lmsal.com/sdomedia/ssw/media/ssw/ssw_client/data/ssw_service_190111_224449_14399/www/ssw_cutout_171_context_thumb.gif',\n",
       " 'http://sdowww.lmsal.com/sdomedia/ssw/media/ssw/ssw_client/data/ssw_service_190111_224842_14683/www/ssw_cutout_171_context_thumb.gif',\n",
       " 'http://sdowww.lmsal.com/sdomedia/ssw/media/ssw/ssw_client/data/ssw_service_190111_224841_14679/www/ssw_cutout_171_context_thumb.gif',\n",
       " 'http://sdowww.lmsal.com/sdomedia/ssw/media/ssw/ssw_client/data/ssw_service_190103_063526_19198/www/ssw_cutout_193_context_thumb.gif',\n",
       " 'http://sdowww.lmsal.com/sdomedia/ssw/media/ssw/ssw_client/data/ssw_service_190103_064046_19368/www/ssw_cutout_193_context_thumb.gif',\n",
       " 'http://sdowww.lmsal.com/sdomedia/ssw/media/ssw/ssw_client/data/ssw_service_190103_064028_19364/www/ssw_cutout_193_context_thumb.gif',\n",
       " 'http://www.lmsal.com/hek/gallery/podimages/2019/01/05/pod_nitta_nariaki_2019-01-05T22%3A25%3A53.920/thumb/halocme_AIA-211_AIA-193_AIA-171_20190103T163425_made_20190105T222103.jpg',\n",
       " 'http://www.lmsal.com/hek/gallery/podimages/2019/01/05/pod_nitta_nariaki_2019-01-05T22%3A25%3A45.426/thumb/halocme_AIA-211_AIA-193_AIA-171_20190103T163425_made_20190105T222103.jpg',\n",
       " 'http://www.lmsal.com/hek/gallery/podimages/2019/01/05/pod_nitta_nariaki_2019-01-05T22%3A25%3A45.426/thumb/halocme_AIA-211_AIA-193_AIA-171_20190103T163425_made_20190105T222103.jpg',\n",
       " 'http://www.lmsal.com/hek/gallery/podimages/2019/01/05/pod_nitta_nariaki_2019-01-05T22%3A25%3A45.426/thumb/halocme_AIA-211_AIA-193_AIA-171_20190103T163425_made_20190105T222103.jpg',\n",
       " 'http://sdowww.lmsal.com/sdomedia/ssw/media/ssw/ssw_client/data/ssw_service_190103_100053_27626/www/ssw_cutout_193_context_thumb.gif',\n",
       " 'http://sdowww.lmsal.com/sdomedia/ssw/media/ssw/ssw_client/data/ssw_service_190103_155058_12865/www/ssw_cutout_193_context_thumb.gif',\n",
       " 'http://sdowww.lmsal.com/sdomedia/ssw/media/ssw/ssw_client/data/ssw_service_190112_061744_5155/www/ssw_cutout_171_context_thumb.gif',\n",
       " 'http://sdowww.lmsal.com/sdomedia/ssw/media/ssw/ssw_client/data/ssw_service_190111_224256_14308/www/ssw_cutout_171_context_thumb.gif',\n",
       " 'http://sdowww.lmsal.com/sdomedia/ssw/media/ssw/ssw_client/data/ssw_service_190112_061744_5151/www/ssw_cutout_171_context_thumb.gif',\n",
       " 'http://sdowww.lmsal.com/sdomedia/ssw/media/ssw/ssw_client/data/ssw_service_190104_013637_7213/www/ssw_cutout_193_context_thumb.gif',\n",
       " 'http://sdowww.lmsal.com/sdomedia/ssw/media/ssw/ssw_client/data/ssw_service_190212_184837_25132/www/ssw_cutout_131_context_thumb.gif',\n",
       " 'http://sdowww.lmsal.com/sdomedia/ssw/media/ssw/ssw_client/data/ssw_service_190111_224256_14304/www/ssw_cutout_171_context_thumb.gif',\n",
       " 'http://sdowww.lmsal.com/sdomedia/ssw/media/ssw/ssw_client/data/ssw_service_190111_223907_14184/www/ssw_cutout_171_context_thumb.gif',\n",
       " 'http://sdowww.lmsal.com/sdomedia/ssw/media/ssw/ssw_client/data/ssw_service_190111_223322_13993/www/ssw_cutout_171_context_thumb.gif',\n",
       " 'http://sdowww.lmsal.com/sdomedia/ssw/media/ssw/ssw_client/data/ssw_service_190111_210457_9756/www/ssw_cutout_171_context_thumb.gif',\n",
       " 'http://sdowww.lmsal.com/sdomedia/ssw/media/ssw/ssw_client/data/ssw_service_190111_223712_14154/www/ssw_cutout_171_context_thumb.gif',\n",
       " 'http://sdowww.lmsal.com/sdomedia/ssw/media/ssw/ssw_client/data/ssw_service_190104_013552_7183/www/ssw_cutout_193_context_thumb.gif',\n",
       " 'http://sdowww.lmsal.com/sdomedia/ssw/media/ssw/ssw_client/data/ssw_service_190111_223128_13928/www/ssw_cutout_171_context_thumb.gif',\n",
       " 'http://sdowww.lmsal.com/sdomedia/ssw/media/ssw/ssw_client/data/ssw_service_190111_222931_13706/www/ssw_cutout_171_context_thumb.gif',\n",
       " 'http://sdowww.lmsal.com/sdomedia/ssw/media/ssw/ssw_client/data/ssw_service_190111_223322_13985/www/ssw_cutout_171_context_thumb.gif',\n",
       " 'http://sdowww.lmsal.com/sdomedia/ssw/media/ssw/ssw_client/data/ssw_service_190111_223322_13989/www/ssw_cutout_171_context_thumb.gif',\n",
       " 'http://sdowww.lmsal.com/sdomedia/ssw/media/ssw/ssw_client/data/ssw_service_190111_210650_9871/www/ssw_cutout_171_context_thumb.gif',\n",
       " 'http://sdowww.lmsal.com/sdomedia/ssw/media/ssw/ssw_client/data/ssw_service_190111_210650_9875/www/ssw_cutout_171_context_thumb.gif',\n",
       " 'http://sdowww.lmsal.com/sdomedia/ssw/media/ssw/ssw_client/data/ssw_service_190111_210650_9867/www/ssw_cutout_171_context_thumb.gif',\n",
       " 'http://www.lmsal.com/hek/gallery/podimages/2019/01/05/pod_nitta_nariaki_2019-01-05T22%3A54%3A21.446/thumb/halocme_AIA-94_AIA-335_AIA-193_20190104T122738_made_20190105T225159.jpg',\n",
       " 'http://www.lmsal.com/hek/gallery/podimages/2019/01/05/pod_nitta_nariaki_2019-01-05T22%3A54%3A21.446/thumb/halocme_AIA-94_AIA-335_AIA-193_20190104T122738_made_20190105T225159.jpg',\n",
       " 'http://www.lmsal.com/hek/gallery/podimages/2019/01/05/pod_nitta_nariaki_2019-01-05T22%3A54%3A30.166/thumb/halocme_AIA-94_AIA-335_AIA-193_20190104T122738_made_20190105T225159.jpg',\n",
       " 'http://www.lmsal.com/hek/gallery/podimages/2019/01/05/pod_nitta_nariaki_2019-01-05T22%3A54%3A21.446/thumb/halocme_AIA-94_AIA-335_AIA-193_20190104T122738_made_20190105T225159.jpg',\n",
       " 'http://www.lmsal.com/solarsoft/irisa/data/level2/2019/01/04/20190104_104505_3620108077/www/l2_20190104_104505_3620108077_SJI_1330_t000_fits_20190104_104505_j_fthumb.gif',\n",
       " 'http://sdowww.lmsal.com/sdomedia/ssw/media/ssw/ssw_client/data/ssw_service_190104_055551_17478/www/ssw_cutout_193_context_thumb.gif',\n",
       " 'http://sdowww.lmsal.com/sdomedia/ssw/media/ssw/ssw_client/data/ssw_service_190104_065048_19681/www/ssw_cutout_193_context_thumb.gif',\n",
       " 'http://sdowww.lmsal.com/sdomedia/ssw/media/ssw/ssw_client/data/ssw_service_190212_193033_26793/www/ssw_cutout_131_context_thumb.gif',\n",
       " 'http://sdowww.lmsal.com/sdomedia/ssw/media/ssw/ssw_client/data/ssw_service_190111_222931_13698/www/ssw_cutout_171_context_thumb.gif',\n",
       " 'http://sdowww.lmsal.com/sdomedia/ssw/media/ssw/ssw_client/data/ssw_service_190111_222544_13619/www/ssw_cutout_171_context_thumb.gif',\n",
       " 'http://sdowww.lmsal.com/sdomedia/ssw/media/ssw/ssw_client/data/ssw_service_190111_222931_13702/www/ssw_cutout_171_context_thumb.gif',\n",
       " 'http://sdowww.lmsal.com/sdomedia/ssw/media/ssw/ssw_client/data/ssw_service_190111_222352_13494/www/ssw_cutout_171_context_thumb.gif',\n",
       " 'http://sdowww.lmsal.com/sdomedia/ssw/media/ssw/ssw_client/data/ssw_service_190111_210841_9892/www/ssw_cutout_171_context_thumb.gif',\n",
       " 'http://sdowww.lmsal.com/sdomedia/ssw/media/ssw/ssw_client/data/ssw_service_190111_222001_13387/www/ssw_cutout_171_context_thumb.gif',\n",
       " 'http://sdowww.lmsal.com/sdomedia/ssw/media/ssw/ssw_client/data/ssw_service_190111_222158_13447/www/ssw_cutout_171_context_thumb.gif',\n",
       " 'http://sdowww.lmsal.com/sdomedia/ssw/media/ssw/ssw_client/data/ssw_service_190111_211037_9973/www/ssw_cutout_171_context_thumb.gif',\n",
       " 'http://sdowww.lmsal.com/sdomedia/ssw/media/ssw/ssw_client/data/ssw_service_190111_211037_9977/www/ssw_cutout_171_context_thumb.gif',\n",
       " 'http://sdowww.lmsal.com/sdomedia/ssw/media/ssw/ssw_client/data/ssw_service_190111_222001_13383/www/ssw_cutout_171_context_thumb.gif',\n",
       " 'http://sdowww.lmsal.com/sdomedia/ssw/media/ssw/ssw_client/data/ssw_service_190111_221804_13334/www/ssw_cutout_171_context_thumb.gif',\n",
       " 'http://sdowww.lmsal.com/sdomedia/ssw/media/ssw/ssw_client/data/ssw_service_190112_061744_5143/www/ssw_cutout_171_context_thumb.gif',\n",
       " 'http://sdowww.lmsal.com/sdomedia/ssw/media/ssw/ssw_client/data/ssw_service_190112_061744_5147/www/ssw_cutout_171_context_thumb.gif',\n",
       " 'http://sdowww.lmsal.com/sdomedia/ssw/media/ssw/ssw_client/data/ssw_service_190112_061744_5139/www/ssw_cutout_171_context_thumb.gif',\n",
       " 'http://sdowww.lmsal.com/sdomedia/ssw/media/ssw/ssw_client/data/ssw_service_190111_221610_13302/www/ssw_cutout_171_context_thumb.gif',\n",
       " 'http://sdowww.lmsal.com/sdomedia/ssw/media/ssw/ssw_client/data/ssw_service_190111_221610_13294/www/ssw_cutout_171_context_thumb.gif',\n",
       " 'http://sdowww.lmsal.com/sdomedia/ssw/media/ssw/ssw_client/data/ssw_service_190111_221415_13015/www/ssw_cutout_171_context_thumb.gif',\n",
       " 'http://sdowww.lmsal.com/sdomedia/ssw/media/ssw/ssw_client/data/ssw_service_190111_221610_13298/www/ssw_cutout_171_context_thumb.gif',\n",
       " 'http://sdowww.lmsal.com/sdomedia/ssw/media/ssw/ssw_client/data/ssw_service_190111_221415_13011/www/ssw_cutout_171_context_thumb.gif',\n",
       " 'http://sdowww.lmsal.com/sdomedia/ssw/media/ssw/ssw_client/data/ssw_service_190111_221222_12926/www/ssw_cutout_171_context_thumb.gif',\n",
       " 'http://sdowww.lmsal.com/sdomedia/ssw/media/ssw/ssw_client/data/ssw_service_190111_221030_12869/www/ssw_cutout_171_context_thumb.gif',\n",
       " 'http://sdowww.lmsal.com/sdomedia/ssw/media/ssw/ssw_client/data/ssw_service_190112_061744_5131/www/ssw_cutout_171_context_thumb.gif',\n",
       " 'http://sdowww.lmsal.com/sdomedia/ssw/media/ssw/ssw_client/data/ssw_service_190112_061744_5135/www/ssw_cutout_171_context_thumb.gif',\n",
       " 'http://www.lmsal.com/solarsoft/irisa/data/level2/2019/01/05/20190105_224144_3660259523/www/l2_20190105_224144_3660259523_SJI_1330_t000_fits_20190105_224144_j_fthumb.gif',\n",
       " 'http://www.lmsal.com/solarsoft/irisa/data/level2/2019/01/06/20190106_000610_3620108077/www/l2_20190106_000610_3620108077_SJI_1330_t000_fits_20190106_000610_j_fthumb.gif',\n",
       " 'http://sdowww.lmsal.com/sdomedia/ssw/media/ssw/ssw_client/data/ssw_service_190112_061743_5127/www/ssw_cutout_171_context_thumb.gif',\n",
       " 'http://sdowww.lmsal.com/sdomedia/ssw/media/ssw/ssw_client/data/ssw_service_190111_221030_12865/www/ssw_cutout_171_context_thumb.gif',\n",
       " 'http://sdowww.lmsal.com/sdomedia/ssw/media/ssw/ssw_client/data/ssw_service_190111_220837_12782/www/ssw_cutout_171_context_thumb.gif',\n",
       " 'http://www.lmsal.com/solarsoft/irisa/data/level2/2019/01/06/20190106_013430_3620108077/www/l2_20190106_013430_3620108077_SJI_1330_t000_fits_20190106_013430_j_fthumb.gif',\n",
       " 'http://sdowww.lmsal.com/sdomedia/ssw/media/ssw/ssw_client/data/ssw_service_190105_215900_25411/www/ssw_cutout_193_context_thumb.gif',\n",
       " 'http://sdowww.lmsal.com/sdomedia/ssw/media/ssw/ssw_client/data/ssw_service_190212_231537_6013/www/ssw_cutout_131_context_thumb.gif',\n",
       " 'http://sdowww.lmsal.com/sdomedia/ssw/media/ssw/ssw_client/data/ssw_service_190106_130152_2341/www/ssw_cutout_193_context_thumb.gif',\n",
       " 'http://sdowww.lmsal.com/sdomedia/ssw/media/ssw/ssw_client/data/ssw_service_190112_061743_5119/www/ssw_cutout_171_context_thumb.gif',\n",
       " 'http://sdowww.lmsal.com/sdomedia/ssw/media/ssw/ssw_client/data/ssw_service_190112_061743_5123/www/ssw_cutout_171_context_thumb.gif',\n",
       " 'http://sdowww.lmsal.com/sdomedia/ssw/media/ssw/ssw_client/data/ssw_service_190106_125904_2117/www/ssw_cutout_193_context_thumb.gif',\n",
       " 'http://sdowww.lmsal.com/sdomedia/ssw/media/ssw/ssw_client/data/ssw_service_190213_004827_9578/www/ssw_cutout_131_context_thumb.gif',\n",
       " 'http://sdowww.lmsal.com/sdomedia/ssw/media/ssw/ssw_client/data/ssw_service_190106_125640_2065/www/ssw_cutout_193_context_thumb.gif',\n",
       " 'http://sdowww.lmsal.com/sdomedia/ssw/media/ssw/ssw_client/data/ssw_service_190111_220451_12657/www/ssw_cutout_171_context_thumb.gif',\n",
       " 'http://sdowww.lmsal.com/sdomedia/ssw/media/ssw/ssw_client/data/ssw_service_190111_220451_12661/www/ssw_cutout_171_context_thumb.gif',\n",
       " 'http://sdowww.lmsal.com/sdomedia/ssw/media/ssw/ssw_client/data/ssw_service_190106_125333_1900/www/ssw_cutout_193_context_thumb.gif',\n",
       " 'http://sdowww.lmsal.com/sdomedia/ssw/media/ssw/ssw_client/data/ssw_service_190213_015003_11990/www/ssw_cutout_131_context_thumb.gif',\n",
       " 'http://sdowww.lmsal.com/sdomedia/ssw/media/ssw/ssw_client/data/ssw_service_190215_120107_4310/www/ssw_cutout_211_context_thumb.gif',\n",
       " 'http://sdowww.lmsal.com/sdomedia/ssw/media/ssw/ssw_client/data/ssw_service_190210_104436_9100/www/ssw_cutout_171_context_thumb.gif',\n",
       " 'http://www.lmsal.com/solarsoft/irisa/data/level2/2019/01/06/20190106_125636_3620108077/www/l2_20190106_125636_3620108077_SJI_1330_t000_fits_20190106_125636_j_fthumb.gif',\n",
       " 'http://sdowww.lmsal.com/sdomedia/ssw/media/ssw/ssw_client/data/ssw_service_190111_220258_12572/www/ssw_cutout_171_context_thumb.gif',\n",
       " 'http://sdowww.lmsal.com/sdomedia/ssw/media/ssw/ssw_client/data/ssw_service_190111_220451_12653/www/ssw_cutout_171_context_thumb.gif',\n",
       " 'http://sdowww.lmsal.com/sdomedia/ssw/media/ssw/ssw_client/data/ssw_service_190106_124839_1785/www/ssw_cutout_193_context_thumb.gif',\n",
       " 'http://sdowww.lmsal.com/sdomedia/ssw/media/ssw/ssw_client/data/ssw_service_190112_063952_6019/www/ssw_cutout_171_context_thumb.gif',\n",
       " 'http://sdowww.lmsal.com/sdomedia/ssw/media/ssw/ssw_client/data/ssw_service_190112_063952_6015/www/ssw_cutout_171_context_thumb.gif',\n",
       " 'http://sdowww.lmsal.com/sdomedia/ssw/media/ssw/ssw_client/data/ssw_service_190112_063952_6007/www/ssw_cutout_171_context_thumb.gif',\n",
       " 'http://sdowww.lmsal.com/sdomedia/ssw/media/ssw/ssw_client/data/ssw_service_190112_063952_6011/www/ssw_cutout_171_context_thumb.gif',\n",
       " 'http://www.lmsal.com/solarsoft/irisa/data/level2/2019/01/06/20190106_212735_3660259503/www/l2_20190106_212735_3660259503_SJI_1330_t000_fits_20190106_212735_j_fthumb.gif',\n",
       " 'http://sdowww.lmsal.com/sdomedia/ssw/media/ssw/ssw_client/data/ssw_service_190106_193458_18296/www/ssw_cutout_193_context_thumb.gif']"
      ]
     },
     "execution_count": 12,
     "metadata": {},
     "output_type": "execute_result"
    }
   ],
   "source": [
    "data.Event.tolist()"
   ]
  },
  {
   "cell_type": "code",
   "execution_count": 13,
   "metadata": {},
   "outputs": [],
   "source": [
    "path='/Users/pierohmd/Desktop/University/Magistral/To do tests/Neural Networks Sun/chromedriver'\n",
    "driver=webdriver.Chrome(path)\n",
    "for i in range(len(data)):\n",
    "    time.sleep(3)\n",
    "    driver.get(data.Event.tolist()[i])\n",
    "    try:\n",
    "        img=driver.find_element_by_xpath('/html/body/img')\n",
    "        actionChains = ActionChains(driver)\n",
    "        actionChains.move_to_element(img).context_click().perform()\n",
    "        pyautogui.typewrite(['down','down','enter'])\n",
    "        time.sleep(2)\n",
    "        pyautogui.typewrite(['delete'])\n",
    "        pyautogui.write(data.Type.tolist()[i]+str(i))\n",
    "        pyautogui.typewrite(['enter'])\n",
    "        time.sleep(2)\n",
    "    except:\n",
    "        print('Not available')\n",
    "        continue\n"
   ]
  }
 ],
 "metadata": {
  "kernelspec": {
   "display_name": "Python 3",
   "language": "python",
   "name": "python3"
  },
  "language_info": {
   "codemirror_mode": {
    "name": "ipython",
    "version": 3
   },
   "file_extension": ".py",
   "mimetype": "text/x-python",
   "name": "python",
   "nbconvert_exporter": "python",
   "pygments_lexer": "ipython3",
   "version": "3.8.3"
  }
 },
 "nbformat": 4,
 "nbformat_minor": 2
}
